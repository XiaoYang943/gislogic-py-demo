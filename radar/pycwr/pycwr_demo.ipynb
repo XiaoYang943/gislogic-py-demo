{
 "cells": [
  {
   "cell_type": "code",
   "outputs": [
    {
     "name": "stderr",
     "output_type": "stream",
     "text": [
      "C:\\Users\\13522\\.conda\\envs\\env_cwr\\lib\\site-packages\\pycwr\\core\\NRadar.py:235: RuntimeWarning: All-NaN slice encountered\n",
      "  GridV = get_CR_xy(vol_azimuth, vol_range, fix_elevation, vol_value, \\\n"
     ]
    },
    {
     "name": "stdout",
     "output_type": "stream",
     "text": [
      "574\n",
      "540\n",
      "574\n"
     ]
    }
   ],
   "source": [
    "import numpy as np\n",
    "from pycwr.io import read_auto  \n",
    "\n",
    "test_filename = r\"data/input/Z_RADR_I_Z9898_20190828181529_O_DOR_SAD_CAP_FMT.bin.bz2\"\n",
    "\n",
    "def get_cr_grid_data(filename):\n",
    "    prd = read_auto(filename)   ## 识别雷达数据类型，并转化为pycwr内置的雷达数据存储格式PRD（Polarimetry Radar Data）类型\n",
    "\n",
    "    lat = prd.fields[0].lat.values\n",
    "    lon = prd.fields[0].lon.values\n",
    "\n",
    "    # 起始值、结束值、格网宽度生成等差数列数组\n",
    "    cell_width = 0.01   # wgs84坐标系，单位：度\n",
    "    lon1d = np.arange(lon.min(), lon.max(), cell_width)\n",
    "    lat1d = np.arange(lat.min(), lat.max(), cell_width)\n",
    "\n",
    "    prd.add_product_CR_lonlat(XLon=lon1d, YLat=lat1d)   # 计算组合反射率\n",
    "\n",
    "    cr_geo_dict = prd.product.CR_geo.to_dict()\n",
    "\n",
    "    coords = cr_geo_dict[\"coords\"]\n",
    "    coords_cr = cr_geo_dict.get(\"data\") # 组合反射率\n",
    "    coords_lat_cr = coords.get(\"lat_cr\").get(\"data\")\n",
    "    coords_lon_cr = coords.get(\"lon_cr\").get(\"data\")\n",
    "\n",
    "    result_lon = []\n",
    "    result_lat = []\n",
    "    result_value = []\n",
    "    invalid_value = -9999\n",
    "\n",
    "    config = {\n",
    "        \"invalidValue\" : invalid_value, # 无效值\n",
    "        \"cellWidth\":cell_width # 格网cell width\n",
    "    }\n",
    "    for i, cr in enumerate(coords_cr):\n",
    "        arr = []\n",
    "        for j, c in enumerate(cr):\n",
    "            if np.isnan(c):\n",
    "                c = config[\"invalidValue\"]\n",
    "            result_lon.append(coords_lon_cr[j])\n",
    "            result_lat.append(coords_lat_cr[j])\n",
    "            arr.append(c)\n",
    "        result_value.append(arr)\n",
    "\n",
    "\n",
    "    print(len(coords_lon_cr))\n",
    "    print(len(coords_lat_cr))\n",
    "    print(len(result_value))\n",
    "\n",
    "    result_dict = {\n",
    "        \"lon\":coords_lon_cr,\n",
    "        \"lat\":coords_lat_cr,\n",
    "        \"value\":result_value,\n",
    "        \"config\":config\n",
    "    }\n",
    "\n",
    "    file2 = open(\"data/output/wContourData\"+\"_\"+str(cell_width)+\".json\", \"w\")\n",
    "    file2.write(str(result_dict))\n",
    "    file2.close()\n",
    "\n",
    "\n",
    "get_cr_grid_data(test_filename)"
   ],
   "metadata": {
    "collapsed": false,
    "ExecuteTime": {
     "end_time": "2024-02-03T08:25:00.950255100Z",
     "start_time": "2024-02-03T08:24:55.044646100Z"
    }
   },
   "id": "5bbd2649a4e60efc",
   "execution_count": 14
  }
 ],
 "metadata": {
  "kernelspec": {
   "display_name": "Python 3",
   "language": "python",
   "name": "python3"
  },
  "language_info": {
   "codemirror_mode": {
    "name": "ipython",
    "version": 2
   },
   "file_extension": ".py",
   "mimetype": "text/x-python",
   "name": "python",
   "nbconvert_exporter": "python",
   "pygments_lexer": "ipython2",
   "version": "2.7.6"
  }
 },
 "nbformat": 4,
 "nbformat_minor": 5
}
